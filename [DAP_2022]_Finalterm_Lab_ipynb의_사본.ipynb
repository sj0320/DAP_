{
  "nbformat": 4,
  "nbformat_minor": 0,
  "metadata": {
    "colab": {
      "provenance": [],
      "include_colab_link": true
    },
    "kernelspec": {
      "name": "python3",
      "display_name": "Python 3"
    },
    "language_info": {
      "name": "python"
    }
  },
  "cells": [
    {
      "cell_type": "markdown",
      "metadata": {
        "id": "view-in-github",
        "colab_type": "text"
      },
      "source": [
        "<a href=\"https://colab.research.google.com/github/sj0320/DAP_/blob/main/%5BDAP_2022%5D_Finalterm_Lab_ipynb%EC%9D%98_%EC%82%AC%EB%B3%B8.ipynb\" target=\"_parent\"><img src=\"https://colab.research.google.com/assets/colab-badge.svg\" alt=\"Open In Colab\"/></a>"
      ]
    },
    {
      "cell_type": "markdown",
      "metadata": {
        "id": "7RWmIBHy8ktG"
      },
      "source": [
        "# Final Term Examination - Lab Session\n",
        "### Data Analysis Programming - 4471017\n",
        "##### Kangwon National University\n",
        "##### 28. Oct. 2022.\n",
        "---\n",
        "| Problem | Score |\n",
        "|---------|-------|\n",
        "| 1       |(&emsp;&emsp;) / 10    |\n",
        "| 2       |(&emsp;&emsp;) / 10    |\n",
        "| 2       |(&emsp;&emsp;) / 30    |\n",
        "| Total   |(&emsp;&emsp;) / 50    |\n",
        "\n",
        "---\n",
        "* This examination contains **two problems**.\n",
        "\n",
        "* You have **40 minutes** to complete the examination.\n",
        "       \n",
        "* Please download `.ipynb` file and submit it on ERUI.\n",
        "\n",
        "* No need to consider colors.\n",
        "---"
      ]
    },
    {
      "cell_type": "markdown",
      "metadata": {
        "id": "daIgkvYdDI1t"
      },
      "source": [
        "# Load Packages"
      ]
    },
    {
      "cell_type": "code",
      "metadata": {
        "id": "FQbMm3OyDGoB"
      },
      "source": [
        "%matplotlib inline\n",
        " \n",
        "import matplotlib.pyplot as plt\n",
        "import numpy as np\n",
        "import os\n",
        "import pprint\n",
        "pp = pprint.PrettyPrinter(indent=4)"
      ],
      "execution_count": 16,
      "outputs": []
    },
    {
      "cell_type": "markdown",
      "metadata": {
        "id": "6C4A5MKDAJ7i"
      },
      "source": [
        "# Problem. Classification\n",
        "\n",
        "동물 얼굴 사진을 이용하여 동물종을 분류하는 모델을 구축하려 한다."
      ]
    },
    {
      "cell_type": "markdown",
      "metadata": {
        "id": "DT74wD-VGLMr"
      },
      "source": [
        "## Load Dataset\n",
        "데이터 로드와 관련된 부분.\n",
        "본 부분은 따로 수정하실 필요 없습니다."
      ]
    },
    {
      "cell_type": "code",
      "metadata": {
        "colab": {
          "base_uri": "https://localhost:8080/"
        },
        "id": "dmN0nfmQGKGw",
        "outputId": "32f49d61-4f23-4150-83c3-ac9475a19abb"
      },
      "source": [
        "!wget https://vcla.stat.ucla.edu/people/zhangzhang-si/HiT/AnimalFace.zip"
      ],
      "execution_count": 17,
      "outputs": [
        {
          "output_type": "stream",
          "name": "stdout",
          "text": [
            "--2022-12-16 06:56:45--  https://vcla.stat.ucla.edu/people/zhangzhang-si/HiT/AnimalFace.zip\n",
            "Resolving vcla.stat.ucla.edu (vcla.stat.ucla.edu)... 128.199.9.172\n",
            "Connecting to vcla.stat.ucla.edu (vcla.stat.ucla.edu)|128.199.9.172|:443... connected.\n",
            "HTTP request sent, awaiting response... 200 OK\n",
            "Length: 37324985 (36M) [application/zip]\n",
            "Saving to: ‘AnimalFace.zip.1’\n",
            "\n",
            "AnimalFace.zip.1    100%[===================>]  35.60M  12.5MB/s    in 2.8s    \n",
            "\n",
            "2022-12-16 06:56:49 (12.5 MB/s) - ‘AnimalFace.zip.1’ saved [37324985/37324985]\n",
            "\n"
          ]
        }
      ]
    },
    {
      "cell_type": "code",
      "source": [
        "!unzip AnimalFace.zip"
      ],
      "metadata": {
        "colab": {
          "base_uri": "https://localhost:8080/"
        },
        "id": "as7FSuCp5kyo",
        "outputId": "d5c659a6-493a-4d60-b78c-58dc5767273f"
      },
      "execution_count": 18,
      "outputs": [
        {
          "output_type": "stream",
          "name": "stdout",
          "text": [
            "Archive:  AnimalFace.zip\n",
            "replace Image/DuckHead/duckside0053.jpg? [y]es, [n]o, [A]ll, [N]one, [r]ename: "
          ]
        }
      ]
    },
    {
      "cell_type": "code",
      "source": [
        "import joblib\n",
        "from skimage.io import imread\n",
        "from skimage.transform import resize\n",
        " \n",
        "def resize_all(src, pklname, include, width=150, height=None):\n",
        "    \"\"\"\n",
        "    load images from path, resize them and write them as arrays to a dictionary, \n",
        "    together with labels and metadata. The dictionary is written to a pickle file \n",
        "    named '{pklname}_{width}x{height}px.pkl'.\n",
        "     \n",
        "    Parameter\n",
        "    ---------\n",
        "    src: str\n",
        "        path to data\n",
        "    pklname: str\n",
        "        path to output file\n",
        "    width: int\n",
        "        target width of the image in pixels\n",
        "    include: set[str]\n",
        "        set containing str\n",
        "    \"\"\"\n",
        "     \n",
        "    height = height if height is not None else width\n",
        "     \n",
        "    data = dict()\n",
        "    data['description'] = 'resized ({0}x{1})animal images in rgb'.format(int(width), int(height))\n",
        "    data['label'] = []\n",
        "    data['filename'] = []\n",
        "    data['data'] = []   \n",
        "     \n",
        "    pklname = f\"{pklname}_{width}x{height}px.pkl\"\n",
        " \n",
        "    # read all images in PATH, resize and write to DESTINATION_PATH\n",
        "    for subdir in os.listdir(src):\n",
        "        if subdir in include:\n",
        "            print(subdir)\n",
        "            current_path = os.path.join(src, subdir)\n",
        " \n",
        "            for file in os.listdir(current_path):\n",
        "                if file[-3:] in {'jpg', 'png'}:\n",
        "                    im = imread(os.path.join(current_path, file))\n",
        "                    im = resize(im, (width, height)) #[:,:,::-1]\n",
        "                    data['label'].append(subdir[:-4])\n",
        "                    data['filename'].append(file)\n",
        "                    data['data'].append(im)\n",
        " \n",
        "        joblib.dump(data, pklname)"
      ],
      "metadata": {
        "id": "rzzWXtpZ6CV8"
      },
      "execution_count": 19,
      "outputs": []
    },
    {
      "cell_type": "code",
      "metadata": {
        "colab": {
          "base_uri": "https://localhost:8080/"
        },
        "id": "C3dCTD1QDGWq",
        "outputId": "cd274b07-6b81-4cc2-96d6-27f419060741"
      },
      "source": [
        "# modify to fit your system\n",
        "data_path = fr'Image'\n",
        "os.listdir(data_path)"
      ],
      "execution_count": 20,
      "outputs": [
        {
          "output_type": "execute_result",
          "data": {
            "text/plain": [
              "['DeerHead',\n",
              " 'DogHead',\n",
              " 'TigerHead',\n",
              " 'MonkeyHead',\n",
              " 'MouseHead',\n",
              " 'BearHead',\n",
              " 'LionHead',\n",
              " 'WolfHead',\n",
              " 'RabbitHead',\n",
              " 'ChickenHead',\n",
              " 'PigeonHead',\n",
              " 'CatHead',\n",
              " 'EagleHead',\n",
              " 'ElephantHead',\n",
              " 'PandaHead',\n",
              " 'HumanHead',\n",
              " 'PigHead',\n",
              " 'Natural',\n",
              " 'CowHead',\n",
              " 'SheepHead',\n",
              " 'DuckHead']"
            ]
          },
          "metadata": {},
          "execution_count": 20
        }
      ]
    },
    {
      "cell_type": "code",
      "source": [
        "base_name = 'animal_faces'\n",
        "width = 80\n",
        " \n",
        "include = {'ChickenHead', 'BearHead', 'ElephantHead', \n",
        "           'EagleHead', 'DeerHead', 'MonkeyHead', 'PandaHead'}\n",
        " \n",
        "resize_all(src=data_path, pklname=base_name, width=width, include=include)"
      ],
      "metadata": {
        "colab": {
          "base_uri": "https://localhost:8080/"
        },
        "id": "hr2gySV26bDK",
        "outputId": "1ea24f1c-6c23-4efd-be2c-338ad4585a36"
      },
      "execution_count": 21,
      "outputs": [
        {
          "output_type": "stream",
          "name": "stdout",
          "text": [
            "DeerHead\n",
            "MonkeyHead\n",
            "BearHead\n",
            "ChickenHead\n",
            "EagleHead\n",
            "ElephantHead\n",
            "PandaHead\n"
          ]
        }
      ]
    },
    {
      "cell_type": "code",
      "source": [
        "from collections import Counter\n",
        " \n",
        "data = joblib.load(f'{base_name}_{width}x{width}px.pkl')\n",
        " \n",
        "print('number of samples: ', len(data['data']))\n",
        "print('keys: ', list(data.keys()))\n",
        "print('description: ', data['description'])\n",
        "print('image shape: ', data['data'][0].shape)\n",
        "print('labels:', np.unique(data['label']))\n",
        " \n",
        "Counter(data['label'])"
      ],
      "metadata": {
        "colab": {
          "base_uri": "https://localhost:8080/"
        },
        "id": "mMESNIbV6g-c",
        "outputId": "ddc34b8d-981c-4589-f665-c704efdbaa8a"
      },
      "execution_count": 22,
      "outputs": [
        {
          "output_type": "stream",
          "name": "stdout",
          "text": [
            "number of samples:  716\n",
            "keys:  ['description', 'label', 'filename', 'data']\n",
            "description:  resized (80x80)animal images in rgb\n",
            "image shape:  (80, 80, 3)\n",
            "labels: ['Bear' 'Chicken' 'Deer' 'Eagle' 'Elephant' 'Monkey' 'Panda']\n"
          ]
        },
        {
          "output_type": "execute_result",
          "data": {
            "text/plain": [
              "Counter({'Deer': 101,\n",
              "         'Monkey': 100,\n",
              "         'Bear': 101,\n",
              "         'Chicken': 100,\n",
              "         'Eagle': 97,\n",
              "         'Elephant': 100,\n",
              "         'Panda': 117})"
            ]
          },
          "metadata": {},
          "execution_count": 22
        }
      ]
    },
    {
      "cell_type": "code",
      "source": [
        "X = np.array(data['data'])\n",
        "y = np.array(data['label'])"
      ],
      "metadata": {
        "id": "hNC4B7zP8pg-"
      },
      "execution_count": 23,
      "outputs": []
    },
    {
      "cell_type": "markdown",
      "source": [
        "## 1. Data split [10 pts]\n",
        "위에서 정의된 데이터를 이용하여 train set과 test set으로 분리하시오.\n",
        "두 set의 비율은 8:2로 지정하고, random_state의 seed는 42로 지정하시오."
      ],
      "metadata": {
        "id": "RpQuxV-968nH"
      }
    },
    {
      "cell_type": "code",
      "source": [
        "from sklearn.model_selection import train_test_split\n",
        " \n",
        "X_train, X_test, y_train, y_test = train_test_split(\n",
        "    X, y, test_size = 0.20, random_state=42\n",
        ")"
      ],
      "metadata": {
        "id": "mCk1QYpT8gMA"
      },
      "execution_count": 24,
      "outputs": []
    },
    {
      "cell_type": "code",
      "source": [
        "def plot_bar(y, loc='left', relative=True):\n",
        "    width = 0.35\n",
        "    if loc == 'left':\n",
        "        n = -0.5\n",
        "    elif loc == 'right':\n",
        "        n = 0.5\n",
        "     \n",
        "    # calculate counts per type and sort, to ensure their order\n",
        "    unique, counts = np.unique(y, return_counts=True)\n",
        "    sorted_index = np.argsort(unique)\n",
        "    unique = unique[sorted_index]\n",
        "     \n",
        "    if relative:\n",
        "        # plot as a percentage\n",
        "        counts = 100*counts[sorted_index]/len(y)\n",
        "        ylabel_text = '% count'\n",
        "    else:\n",
        "        # plot counts\n",
        "        counts = counts[sorted_index]\n",
        "        ylabel_text = 'count'\n",
        "         \n",
        "    xtemp = np.arange(len(unique))\n",
        "     \n",
        "    plt.bar(xtemp + n*width, counts, align='center', alpha=.7, width=width)\n",
        "    plt.xticks(xtemp, unique, rotation=45)\n",
        "    plt.xlabel('equipment type')\n",
        "    plt.ylabel(ylabel_text)\n",
        " \n",
        "plt.suptitle('relative amount of photos per type')\n",
        "plot_bar(y_train, loc='left')\n",
        "plot_bar(y_test, loc='right')\n",
        "plt.legend([\n",
        "    'train ({0} photos)'.format(len(y_train)), \n",
        "    'test ({0} photos)'.format(len(y_test))\n",
        "]);"
      ],
      "metadata": {
        "colab": {
          "base_uri": "https://localhost:8080/",
          "height": 337
        },
        "id": "XIRO3Yl88lfk",
        "outputId": "e7f5a7ac-d8c0-4caf-f074-cce23eba281c"
      },
      "execution_count": 25,
      "outputs": [
        {
          "output_type": "display_data",
          "data": {
            "text/plain": [
              "<Figure size 432x288 with 1 Axes>"
            ],
            "image/png": "[encoded data removed]"
          },
          "metadata": {
            "needs_background": "light"
          }
        }
      ]
    },
    {
      "cell_type": "markdown",
      "source": [
        "## Feature Extraction\n",
        "이미지에 대해 feature를 뽑고자 한다.\n",
        "뽑으려는 feature는 HoG (Histogram of Gradient)이다. \n",
        "HoG feature는 OpenCV에서 `hog` 라는 이름의 method를 제공한다. "
      ],
      "metadata": {
        "id": "UWvSyaoS8f5T"
      }
    },
    {
      "cell_type": "code",
      "source": [
        "from skimage.feature import hog\n",
        "from skimage.io import imread\n",
        "from skimage.transform import rescale\n",
        " \n",
        "dog = imread('/content/Image/BearHead/bearfrontal0001.jpg', as_gray=True)\n",
        " \n",
        "# scale down the image to one third\n",
        "dog = rescale(dog, 1/3, mode='reflect')\n",
        "\n",
        "# calculate the hog and return a visual representation.\n",
        "dog_hog, dog_hog_img = hog(dog, visualize=True)\n",
        " \n",
        "fig, ax = plt.subplots(1,2)\n",
        "fig.set_size_inches(8,6)\n",
        "# remove ticks and their labels\n",
        "[a.tick_params(bottom=False, left=False, labelbottom=False, labelleft=False) \n",
        "    for a in ax]\n",
        " \n",
        "ax[0].imshow(dog, cmap='gray')\n",
        "ax[0].set_title('dog')\n",
        "ax[1].imshow(dog_hog_img, cmap='gray')\n",
        "ax[1].set_title('hog')\n",
        "plt.show()"
      ],
      "metadata": {
        "colab": {
          "base_uri": "https://localhost:8080/",
          "height": 250
        },
        "id": "hPB2GFOF69Yj",
        "outputId": "adec54b7-2e9f-4669-f7f9-6df3183f6e89"
      },
      "execution_count": 26,
      "outputs": [
        {
          "output_type": "display_data",
          "data": {
            "text/plain": [
              "<Figure size 576x432 with 2 Axes>"
            ],
            "image/png": "[encoded data removed]"
          },
          "metadata": {}
        }
      ]
    },
    {
      "cell_type": "code",
      "source": [
        "from sklearn.base import BaseEstimator, TransformerMixin\n",
        " \n",
        "class RGB2GrayTransformer(BaseEstimator, TransformerMixin):\n",
        "    \"\"\"\n",
        "    Convert an array of RGB images to grayscale\n",
        "    \"\"\"\n",
        " \n",
        "    def __init__(self):\n",
        "        pass\n",
        " \n",
        "    def fit(self, X, y=None):\n",
        "        \"\"\"returns itself\"\"\"\n",
        "        return self\n",
        " \n",
        "    def transform(self, X, y=None):\n",
        "        \"\"\"perform the transformation and return an array\"\"\"\n",
        "        return np.array([skimage.color.rgb2gray(img) for img in X])\n",
        "     \n",
        " \n",
        "class HogTransformer(BaseEstimator, TransformerMixin):\n",
        "    \"\"\"\n",
        "    Expects an array of 2d arrays (1 channel images)\n",
        "    Calculates hog features for each img\n",
        "    \"\"\"\n",
        " \n",
        "    def __init__(self):\n",
        "      pass\n",
        " \n",
        "    def fit(self, X, y=None):\n",
        "        return self\n",
        " \n",
        "    def transform(self, X, y=None): \n",
        "        def local_hog(X):\n",
        "            return hog(X)\n",
        " \n",
        "        try: # parallel\n",
        "            return np.array([local_hog(img) for img in X])\n",
        "        except:\n",
        "            return np.array([local_hog(img) for img in X])"
      ],
      "metadata": {
        "id": "PzMpl7CV7Afg"
      },
      "execution_count": 27,
      "outputs": []
    },
    {
      "cell_type": "code",
      "source": [
        "from sklearn.linear_model import SGDClassifier\n",
        "from sklearn.model_selection import cross_val_predict\n",
        "from sklearn.preprocessing import StandardScaler, Normalizer\n",
        "import skimage\n",
        " \n",
        "# create an instance of each transformer\n",
        "grayify = RGB2GrayTransformer()\n",
        "hogify = HogTransformer()\n",
        "scalify = StandardScaler()\n",
        " \n",
        "# call fit_transform on each transform converting X_train step by step\n",
        "X_train_gray = grayify.fit_transform(X_train)\n",
        "X_train_hog = hogify.fit_transform(X_train_gray)\n",
        "X_train_prepared = scalify.fit_transform(X_train_hog)\n",
        " \n",
        "print(X_train_prepared.shape)"
      ],
      "metadata": {
        "colab": {
          "base_uri": "https://localhost:8080/"
        },
        "id": "Dd5bvsyd8LxQ",
        "outputId": "43a09577-f376-4c60-dcce-479bfb788c94"
      },
      "execution_count": 28,
      "outputs": [
        {
          "output_type": "stream",
          "name": "stdout",
          "text": [
            "(572, 5184)\n"
          ]
        }
      ]
    },
    {
      "cell_type": "markdown",
      "source": [
        "## 2. PCA [10pts]\n",
        "추출한 HoG feature는 5,184 차원을 갖고 있어 주어진 데이터에 비해 너무 큰 차원이다. PCA를 이용하여 차원을 줄이고자 한다. PCA를 이용하여 차원으로 축소하시오. **차원의 개수는 자유롭게 선택하시되 구현할 모델의 성능이 최대가 될 수 있도록 고르는 것을 추천합니다.**"
      ],
      "metadata": {
        "id": "ub8bzHkau_VC"
      }
    },
    {
      "cell_type": "code",
      "source": [
        "from sklearn.decomposition import PCA\n",
        "\n",
        "pca = PCA(n_components=0.99)\n",
        "\n",
        "X_train_pca = pca.fit_transform(X_train_prepared)"
      ],
      "metadata": {
        "id": "bUQw5x4423P2"
      },
      "execution_count": 43,
      "outputs": []
    },
    {
      "cell_type": "markdown",
      "source": [
        "## 3. Classification [30pts]\n",
        "수업 시간에 다룬 다양한 classifier (SVM, kNN, LR, deicision tree 등)중 하나를 사용하여 모델을 학습하라.\n",
        "\n",
        "정확도 기준,\n",
        "- 90 % 성능 이상은 30점\n",
        "- 85 ~ 89.9 %은 20점\n",
        "- 80 ~ 85 %이하는 10점\n",
        "- 80 %이하는 5점\n",
        "- 미완성 및 에러 발생 시 0점"
      ],
      "metadata": {
        "id": "V_vGn815x5HX"
      }
    },
    {
      "cell_type": "code",
      "source": [
        "from sklearn.linear_model import LogisticRegression\n",
        "\n",
        "model = LogisticRegression()\n",
        "\n",
        "model.fit(X_train_pca, y_train)"
      ],
      "metadata": {
        "id": "hrmqjtKEGgzm",
        "colab": {
          "base_uri": "https://localhost:8080/"
        },
        "outputId": "d5a3613e-78c8-438f-b889-d967d5d00bcb"
      },
      "execution_count": 47,
      "outputs": [
        {
          "output_type": "stream",
          "name": "stderr",
          "text": [
            "/usr/local/lib/python3.8/dist-packages/sklearn/linear_model/_logistic.py:814: ConvergenceWarning: lbfgs failed to converge (status=1):\n",
            "STOP: TOTAL NO. of ITERATIONS REACHED LIMIT.\n",
            "\n",
            "Increase the number of iterations (max_iter) or scale the data as shown in:\n",
            "    https://scikit-learn.org/stable/modules/preprocessing.html\n",
            "Please also refer to the documentation for alternative solver options:\n",
            "    https://scikit-learn.org/stable/modules/linear_model.html#logistic-regression\n",
            "  n_iter_i = _check_optimize_result(\n"
          ]
        },
        {
          "output_type": "execute_result",
          "data": {
            "text/plain": [
              "LogisticRegression()"
            ]
          },
          "metadata": {},
          "execution_count": 47
        }
      ]
    },
    {
      "cell_type": "markdown",
      "source": [
        "## Evaluation"
      ],
      "metadata": {
        "id": "txJyL-qq0piY"
      }
    },
    {
      "cell_type": "markdown",
      "source": [
        "Test set에 대해 분류하고 평가하기"
      ],
      "metadata": {
        "id": "nQBy0n09zemV"
      }
    },
    {
      "cell_type": "code",
      "source": [
        "X_test_gray = grayify.transform(X_test)\n",
        "X_test_hog = hogify.transform(X_test_gray)\n",
        "X_test_prepared = scalify.transform(X_test_hog)\n",
        "X_test_pca = pca.transform(X_test_prepared)"
      ],
      "metadata": {
        "id": "4HnKmnZ6-JMz"
      },
      "execution_count": 48,
      "outputs": []
    },
    {
      "cell_type": "code",
      "source": [
        "y_pred = model.predict(X_test_pca)\n",
        "print(np.array(y_pred == y_test)[:25])\n",
        "print('')\n",
        "print('Percentage correct: ', 100*np.sum(y_pred == y_test)/len(y_test))"
      ],
      "metadata": {
        "colab": {
          "base_uri": "https://localhost:8080/"
        },
        "id": "jKa5s1oO-KNk",
        "outputId": "7696170a-87b5-4595-c294-f2e981dcccab"
      },
      "execution_count": 49,
      "outputs": [
        {
          "output_type": "stream",
          "name": "stdout",
          "text": [
            "[False  True  True  True  True  True  True  True  True  True  True  True\n",
            "  True  True  True  True  True  True  True  True  True  True  True  True\n",
            " False]\n",
            "\n",
            "Percentage correct:  93.05555555555556\n"
          ]
        }
      ]
    },
    {
      "cell_type": "code",
      "source": [
        "import pandas\n",
        "import seaborn as sns\n",
        "from sklearn.metrics import confusion_matrix, classification_report\n",
        " \n",
        "labels = np.unique(y_test)\n",
        "cmx = confusion_matrix(y_test, y_pred, labels=labels)\n",
        "sns.heatmap(cmx, fmt='', cmap='Blues')\n",
        "\n",
        "print(classification_report(y_test, y_pred))"
      ],
      "metadata": {
        "colab": {
          "base_uri": "https://localhost:8080/",
          "height": 526
        },
        "id": "AHmJzxAG9bST",
        "outputId": "ce41dba4-0d08-47c4-8fe4-b8f07fa2e69d"
      },
      "execution_count": 50,
      "outputs": [
        {
          "output_type": "stream",
          "name": "stdout",
          "text": [
            "              precision    recall  f1-score   support\n",
            "\n",
            "        Bear       0.86      0.90      0.88        20\n",
            "     Chicken       0.96      0.96      0.96        23\n",
            "        Deer       1.00      1.00      1.00        25\n",
            "       Eagle       0.86      1.00      0.92        12\n",
            "    Elephant       1.00      0.95      0.97        20\n",
            "      Monkey       0.88      0.70      0.78        20\n",
            "       Panda       0.92      1.00      0.96        24\n",
            "\n",
            "    accuracy                           0.93       144\n",
            "   macro avg       0.92      0.93      0.92       144\n",
            "weighted avg       0.93      0.93      0.93       144\n",
            "\n"
          ]
        },
        {
          "output_type": "display_data",
          "data": {
            "text/plain": [
              "<Figure size 432x288 with 2 Axes>"
            ],
            "image/png": "[encoded data removed]"
          },
          "metadata": {
            "needs_background": "light"
          }
        }
      ]
    }
  ]
}